{
 "cells": [
  {
   "cell_type": "code",
   "execution_count": null,
   "id": "b66abc7b",
   "metadata": {},
   "outputs": [],
   "source": [
    "# Dashboard to display survey results, based on bokeh"
   ]
  },
  {
   "cell_type": "code",
   "execution_count": null,
   "id": "06d540c7",
   "metadata": {},
   "outputs": [],
   "source": []
  },
  {
   "cell_type": "code",
   "execution_count": null,
   "id": "6a7ee4e8",
   "metadata": {},
   "outputs": [],
   "source": [
    "# TODO: maybe only read in results from an evaluation"
   ]
  },
  {
   "cell_type": "code",
   "execution_count": null,
   "id": "70b59812",
   "metadata": {},
   "outputs": [],
   "source": [
    "import os\n",
    "from pandas import read_csv\n",
    "import pandas as pd\n",
    "import random\n",
    "import numpy as np\n",
    "from bokeh.io import output_notebook, show, push_notebook\n",
    "from bokeh.layouts import column, row\n",
    "from bokeh.models import ColumnDataSource, Div, Select, Slider, TextInput\n",
    "from bokeh.plotting import figure as bokeh_figure\n",
    "from os.path import dirname, join\n",
    "\n",
    "from bokeh.palettes import Category20c\n",
    "from bokeh.transform import factor_cmap\n",
    "from bokeh.transform import cumsum\n",
    "from bokeh.models import FactorRange\n",
    "\n",
    "from masci_tools.vis.bokeh_plots import bokeh_scatter, bokeh_multi_scatter"
   ]
  },
  {
   "cell_type": "code",
   "execution_count": null,
   "id": "c17cbaa9",
   "metadata": {},
   "outputs": [],
   "source": [
    "output_notebook()"
   ]
  },
  {
   "cell_type": "code",
   "execution_count": null,
   "id": "111f922e",
   "metadata": {},
   "outputs": [],
   "source": [
    "# To embed a bokeh sever hosted somewhere else in a webpage one can add (https://docs.bokeh.org/en/latest/docs/user_guide/embed.html#app-documents):\n",
    "#from bokeh.embed import server_document\n",
    "#script = server_document(\"https://demo.bokeh.org/sliders\")\n",
    "#script"
   ]
  },
  {
   "cell_type": "code",
   "execution_count": null,
   "id": "7f318c0d",
   "metadata": {},
   "outputs": [],
   "source": [
    "pwd = os.getcwd()"
   ]
  },
  {
   "cell_type": "code",
   "execution_count": null,
   "id": "92c55848",
   "metadata": {},
   "outputs": [],
   "source": [
    "datafilepath= join(pwd, 'dashboard/data/HMC_community_survey2021_merged_all_replies.csv')"
   ]
  },
  {
   "cell_type": "code",
   "execution_count": null,
   "id": "6fc0ee7e",
   "metadata": {},
   "outputs": [],
   "source": [
    "# read in data\n",
    "surveydata = read_csv(datafilepath)"
   ]
  },
  {
   "cell_type": "code",
   "execution_count": null,
   "id": "92e34201",
   "metadata": {},
   "outputs": [],
   "source": [
    "surveydata.describe()"
   ]
  },
  {
   "cell_type": "code",
   "execution_count": null,
   "id": "6b2a32a4",
   "metadata": {},
   "outputs": [],
   "source": [
    "# run evaluation"
   ]
  },
  {
   "cell_type": "code",
   "execution_count": null,
   "id": "dd610bc9",
   "metadata": {},
   "outputs": [],
   "source": [
    "x = [str(i) for i in range(7)]\n",
    "xs = [x,x,x,x,x]\n",
    "xlabels = [[f'1 pli bla blub i' for i in x], [f'2 pli bla blub i' for i in x], [f'3 pli bla blub i' for i in x], [f'4 pli bla blub i' for i in x], [f'5 pli bla blub i' for i in x]]\n",
    "ys = [[random.randint(0, 1200) for i in x], [random.randint(0, 1200) for i in x], [random.randint(0, 1200) for i in x],[random.randint(0, 1200) for i in x], [random.randint(0, 1200) for i in x]]"
   ]
  },
  {
   "cell_type": "code",
   "execution_count": null,
   "id": "df8275da",
   "metadata": {},
   "outputs": [],
   "source": [
    "# create dashboard"
   ]
  },
  {
   "cell_type": "code",
   "execution_count": null,
   "id": "6214b143",
   "metadata": {},
   "outputs": [],
   "source": [
    "random"
   ]
  },
  {
   "cell_type": "code",
   "execution_count": null,
   "id": "ba63c961",
   "metadata": {},
   "outputs": [],
   "source": [
    "random.randint\n",
    "    \n",
    "    \n",
    "\n",
    "\n"
   ]
  },
  {
   "cell_type": "code",
   "execution_count": null,
   "id": "31677482",
   "metadata": {},
   "outputs": [],
   "source": [
    "print(random)"
   ]
  },
  {
   "cell_type": "code",
   "execution_count": null,
   "id": "ef67cea0",
   "metadata": {},
   "outputs": [],
   "source": [
    "# launch app"
   ]
  },
  {
   "cell_type": "code",
   "execution_count": null,
   "id": "696ff1e2",
   "metadata": {},
   "outputs": [],
   "source": []
  },
  {
   "cell_type": "code",
   "execution_count": null,
   "id": "167ecd8a",
   "metadata": {},
   "outputs": [],
   "source": [
    "# bokeh bar plot\n",
    "def bokeh_barchart(df, x='value', y='counts', factors=None, figure=None, title='', width=0.9, xlabel='Answers', ylabel='Number of answers', palette=Category20c, fill_color='color'):\n",
    "    \"\"\"Plot an interactive bar chart with bokeh\"\"\"\n",
    "    \n",
    "    if isinstance(df, ColumnDataSource):\n",
    "        xdata = df.data[x]\n",
    "        if not 'color' in df.column_names:\n",
    "            if not len(xdata) > 20:\n",
    "                df.data['color'] = Category20c[len(xdata)] # ! if len(xdata)>20 this fails\n",
    "    else:\n",
    "        xdata = df[x]\n",
    "        if not 'color' in df.columns:\n",
    "            df['color'] = Category20c[len(xdata)] # ! if len(xdata)>20 this fails\n",
    "\n",
    "    if figure is None:\n",
    "        if factors is not None:\n",
    "            fig = bokeh_figure(plot_height=600, plot_width=600,\n",
    "               title=title,\n",
    "               toolbar_location=None,\n",
    "               x_range=FactorRange(factors=factors),\n",
    "               tools='',#'hover',\n",
    "               tooltips=[('Data', f'@{x}'), ('Count', f'@{y}')])\n",
    "        else:\n",
    "            fig = bokeh_figure(plot_height=600, plot_width=600,\n",
    "               title=title,\n",
    "               toolbar_location=None,\n",
    "               tools='',#'hover',\n",
    "               tooltips=[('Data', f'@{x}'), ('Count', f'@{y}')])\n",
    "    \n",
    "    #if factors is not None:\n",
    "    #    fig.x_range=FactorRange(factors=factors)\n",
    "    \n",
    "    fig.vbar(x=x, top=y, width=width, source=df, line_color=\"white\", fill_color=fill_color)#factor_cmap('x', palette=palette, factors=factors, start=1, end=2))\n",
    "    fig.y_range.start = 0\n",
    "    fig.x_range.range_padding = 0.1\n",
    "    fig.xaxis.major_label_orientation = 1\n",
    "    fig.yaxis.axis_label = ylabel\n",
    "    fig.xaxis.axis_label = xlabel\n",
    "    fig.xgrid.grid_line_color = None\n",
    "    return fig"
   ]
  },
  {
   "cell_type": "code",
   "execution_count": null,
   "id": "549f33bc",
   "metadata": {},
   "outputs": [],
   "source": [
    "# test\n",
    "df_test = pd.DataFrame(data=dict(value=xs[0], counts=ys[0]))\n",
    "fig = bokeh_barchart(df_test, factors=xs[0])\n",
    "show(fig)"
   ]
  },
  {
   "cell_type": "code",
   "execution_count": null,
   "id": "a57bfdf0",
   "metadata": {},
   "outputs": [],
   "source": [
    "fig.visible = False"
   ]
  },
  {
   "cell_type": "code",
   "execution_count": null,
   "id": "35f7e285",
   "metadata": {},
   "outputs": [],
   "source": []
  },
  {
   "cell_type": "code",
   "execution_count": null,
   "id": "166e25cc",
   "metadata": {},
   "outputs": [],
   "source": [
    "fig.update?"
   ]
  },
  {
   "cell_type": "code",
   "execution_count": null,
   "id": "8d7dccd1",
   "metadata": {},
   "outputs": [],
   "source": [
    "fig.disabled = True"
   ]
  },
  {
   "cell_type": "code",
   "execution_count": null,
   "id": "baff9aa9",
   "metadata": {},
   "outputs": [],
   "source": [
    "fig.destroy?"
   ]
  },
  {
   "cell_type": "code",
   "execution_count": null,
   "id": "873a8de1",
   "metadata": {},
   "outputs": [],
   "source": [
    "\n",
    "fruits = ['Apples', 'Pears', 'Nectarines', 'Plums', 'Grapes', 'Strawberries']\n",
    "years = ['2015', '2016', '2017']\n",
    "data = {'fruits' : fruits,\n",
    "        '2015'   : [2, 1, 4, 3, 2, 4],\n",
    "        '2016'   : [5, 3, 3, 2, 4, 6],\n",
    "        '2017'   : [3, 2, 4, 4, 5, 3]}\n",
    "\n",
    "# this creates [ (\"Apples\", \"2015\"), (\"Apples\", \"2016\"), (\"Apples\", \"2017\"), (\"Pears\", \"2015), ... ]\n",
    "x = [ (fruit, year) for fruit in fruits for year in years ]\n",
    "counts = sum(zip(data['2015'], data['2016'], data['2017']), ()) # like an hstack\n",
    "print(counts)"
   ]
  },
  {
   "cell_type": "code",
   "execution_count": null,
   "id": "4c2a3e35",
   "metadata": {},
   "outputs": [],
   "source": [
    "df_test2 = ColumnDataSource(data=dict(value=x, counts=counts))\n",
    "\n",
    "fig2 = bokeh_barchart(df_test2, factors=x, fill_color=factor_cmap('value', palette=palette, factors=years, start=1, end=2))\n",
    "show(fig2)"
   ]
  },
  {
   "cell_type": "code",
   "execution_count": null,
   "id": "81cea0f2",
   "metadata": {},
   "outputs": [],
   "source": [
    "# test\n",
    "\n",
    "counts2 = sum(zip(*ys), ())\n",
    "factors = [(str(ques), ans) for ques in range(len(xs)) for ans in xs[0]] # factors have to be unique, and strings\n",
    "df_test3 = ColumnDataSource(data=dict(value=factors, counts=counts2))\n",
    "palette = Category20c[len(ys[0])]\n",
    "fig = bokeh_barchart(df_test3, factors=factors, fill_color=factor_cmap('value', palette=palette, factors=xs[0], start=1, end=2))\n",
    "show(fig)"
   ]
  },
  {
   "cell_type": "code",
   "execution_count": null,
   "id": "7693d710",
   "metadata": {},
   "outputs": [],
   "source": [
    "# bokeh piechart    \n",
    "def bokeh_piechart(df, x='value', y='counts', figure=None, radius=0.6, title=''):\n",
    "    \"\"\"Draw an interactive piechart with bokeh\"\"\"\n",
    "    \n",
    "    from math import pi\n",
    "    \n",
    "    ydata = np.array(df[y])\n",
    "    df['angle'] = ydata / sum(list(ydata)) * 2 * pi\n",
    "    \n",
    "    if not 'color' in df.columns:\n",
    "        df['color'] = Category20c[len(ydata)] # ! if len(xdata)>20 this fails\n",
    "    df['percent'] = ydata / sum(ydata)\n",
    "\n",
    "\n",
    "    if figure is None:\n",
    "        fig = bokeh_figure(plot_height=600, plot_width=600,\n",
    "               title=title,\n",
    "               toolbar_location=None,\n",
    "               tools='hover',\n",
    "               tooltips=[('Data', f'@{x}'),\n",
    "                         ('Percent', '@percent{0.00%}'), \n",
    "                         ('Count', f'@{y}')])\n",
    "    #fig.add_layout(Legend(), 'right')\n",
    "    fig.wedge(x=0,\n",
    "            y=1,\n",
    "            radius=radius,\n",
    "            start_angle=cumsum('angle', include_zero=True),\n",
    "            end_angle=cumsum('angle'),\n",
    "            line_color='white',\n",
    "            fill_color='color',\n",
    "            legend_field='xlabel',\n",
    "            source=df)\n",
    "    \n",
    "    fig.axis.axis_label = None\n",
    "    fig.axis.visible = False\n",
    "    fig.grid.grid_line_color = None\n",
    "    return fig"
   ]
  },
  {
   "cell_type": "code",
   "execution_count": null,
   "id": "e2410231",
   "metadata": {},
   "outputs": [],
   "source": [
    "# test\n",
    "df_test = pd.DataFrame(data=dict(value=xs[0], counts=ys[0], xlabel=xs[0]))\n",
    "fig = bokeh_piechart(df_test)\n",
    "show(fig)"
   ]
  },
  {
   "cell_type": "code",
   "execution_count": null,
   "id": "358d9965",
   "metadata": {},
   "outputs": [],
   "source": [
    "# bokeh scatter plot\n",
    "'''\n",
    "def bokeh_scatter(x,\n",
    "                  y=None,\n",
    "                  *,\n",
    "                  xlabel='x',\n",
    "                  ylabel='y',\n",
    "                  title='',\n",
    "                  figure=None,\n",
    "                  data=None,\n",
    "                  saveas='scatter',\n",
    "                  copy_data=False,\n",
    "                  **kwargs):\n",
    "    \"\"\"Draw an interactive scatter with bokeh\"\"\"\n",
    "\n",
    "\n",
    "    if isinstance(x, (dict, pd.DataFrame, ColumnDataSource)) or x is None:\n",
    "        warnings.warn(\n",
    "            'Passing the source as first argument is deprecated. Please pass in source by the keyword data'\n",
    "            'and xdata and ydata as the first arguments', DeprecationWarning)\n",
    "        data = x\n",
    "        x = kwargs.pop('xdata', 'x')\n",
    "        y = kwargs.pop('ydata', 'y')\n",
    "\n",
    "    plot_data = process_data_arguments(data=data,\n",
    "                                       x=x,\n",
    "                                       y=y,\n",
    "                                       copy_data=copy_data,\n",
    "                                       single_plot=True,\n",
    "                                       same_length=True,\n",
    "                                       use_column_source=True)\n",
    "    entry, source = plot_data.items(first=True)\n",
    "\n",
    "    plot_params.set_defaults(default_type='function', name=entry.y)\n",
    "    kwargs = plot_params.set_parameters(continue_on_error=True, **kwargs)\n",
    "\n",
    "    p = plot_params.prepare_figure(title, xlabel, ylabel, figure=figure)\n",
    "\n",
    "    plot_kwargs = plot_params.plot_kwargs(plot_type='scatter')\n",
    "    res = p.scatter(x=entry.x, y=entry.y, source=source, **plot_kwargs, **kwargs)\n",
    "    plot_params.add_tooltips(p, res, entry)\n",
    "\n",
    "    if plot_params['level'] is not None:\n",
    "        res.level = plot_params['level']\n",
    "\n",
    "    plot_params.draw_straight_lines(p)\n",
    "    plot_params.set_limits(p)\n",
    "    plot_params.save_plot(p, saveas)\n",
    "\n",
    "    return p\n",
    "```"
   ]
  },
  {
   "cell_type": "code",
   "execution_count": null,
   "id": "7c768464",
   "metadata": {},
   "outputs": [],
   "source": [
    "fig = bokeh_multi_scatter([[x] for x in xs[0]], [[y] for y in ys[0]], marker_size=[int(x)+6 for x in xs[0]])"
   ]
  },
  {
   "cell_type": "code",
   "execution_count": null,
   "id": "951b1eed",
   "metadata": {},
   "outputs": [],
   "source": []
  },
  {
   "cell_type": "code",
   "execution_count": null,
   "id": "6032a559",
   "metadata": {},
   "outputs": [],
   "source": [
    "questions = open(join(pwd, 'dashboard/data/questions.txt')).read().split()\n",
    "QUESTION_MAP = {question : i for i, question in enumerate(questions)}\n",
    "\n",
    "\n",
    "question_select = Select(title=\"Question\", value=\"Question 1\",\n",
    "               options=questions)\n",
    "filter_select = Select(title=\"Filter\", value=\"All\",\n",
    "               options=open(join(pwd, 'dashboard/data/filters.txt')).read().split())\n",
    "chart_select = Select(title=\"Filter\", value=\"bar\",\n",
    "               options=['bar', 'pie'])\n",
    "# Dublicate button\n",
    "\n",
    "\n",
    "TOOLTIPS=[\n",
    "    (\"Title\", \"@title\"),\n",
    "    (\"Answer\", \"@X\"),\n",
    "    (\"Number of Answers\", \"@Y\")\n",
    "]\n",
    "\n",
    "\n",
    "p = bokeh_figure(height=600, width=700, title=\"\", toolbar_location='right', tooltips=TOOLTIPS, sizing_mode=\"scale_both\")\n",
    "source = ColumnDataSource(data=dict(x=[], y=[], color=[], title=[], year=[], revenue=[], alpha=[]))"
   ]
  },
  {
   "cell_type": "code",
   "execution_count": null,
   "id": "c91aecb7",
   "metadata": {},
   "outputs": [],
   "source": [
    "\n",
    "def select_data():\n",
    "    \"\"\"Select the data to display\"\"\"\n",
    "    question = question_select.value\n",
    "    index = QUESTION_MAP(question)\n",
    "    selected = ColumnDataSource(data=dict(x=xs[index], y=ys[index], title=question))\n",
    "    return selected\n",
    "\n",
    "\n",
    "def select_chart():\n",
    "    \"\"\"Select how the data should be displayed\"\"\"\n",
    "    charttype = chart_select.value.strip()\n",
    "    return charttype\n",
    "\n",
    "def update():\n",
    "    \"\"\"Update the charts\"\"\"\n",
    "    df = select_data()\n",
    "    charttype = select_chart()"
   ]
  },
  {
   "cell_type": "code",
   "execution_count": null,
   "id": "06faf10b",
   "metadata": {},
   "outputs": [],
   "source": []
  },
  {
   "cell_type": "code",
   "execution_count": null,
   "id": "594765b2",
   "metadata": {},
   "outputs": [],
   "source": [
    "# develop interactive multi bar chart"
   ]
  },
  {
   "cell_type": "code",
   "execution_count": null,
   "id": "06b41dad",
   "metadata": {},
   "outputs": [],
   "source": [
    "from bokeh.io import output_notebook\n",
    "from bokeh.models import ColumnDataSource\n",
    "from bokeh.plotting import figure, show\n",
    "from bokeh.transform import dodge\n",
    "from pprint import pprint\n",
    "from bokeh.palettes import Category20"
   ]
  },
  {
   "cell_type": "code",
   "execution_count": null,
   "id": "e2c7c33c",
   "metadata": {},
   "outputs": [],
   "source": [
    "def update_bar(event):\n",
    "    '''replot the bar chart, but leave out hidden items'''\n",
    "    print('Python:Click')"
   ]
  },
  {
   "cell_type": "code",
   "execution_count": null,
   "id": "0a0ae81e",
   "metadata": {},
   "outputs": [],
   "source": [
    "\n",
    "\n",
    "width = 0.2\n",
    "fruits = ['Apples', 'Pears', 'Nectarines', 'Plums', 'Grapes', 'Strawberries']\n",
    "years = ['2015', '2016', '2017', '2018', '2019', '2020']\n",
    "years_visible = [False, True, True, True, True, True]\n",
    "years_color = Category20[len(years)]#[\"#c9d9d3\",\"#718dbf\", \"#e84d60\", \"#e84d60\", \"#e84d60\", \"#e84d60\"]\n",
    "position = []#for i in range(years_visible.count(True))]\n",
    "step = width+0.05\n",
    "nvisible = years_visible.count(True)\n",
    "print(nvisible%2)\n",
    "if nvisible%2 == 0:\n",
    "    start = -step*nvisible/2 + step/2.0\n",
    "elif nvisible==1:\n",
    "    start = 0.0\n",
    "else:\n",
    "    start = nvisible//2 * -step\n",
    "displayed_pos = [start+i*step for i in range(nvisible)]\n",
    "#print(displayed_pos, start, step)\n",
    "ind = 0\n",
    "for visible in years_visible:\n",
    "    if not visible:\n",
    "        position.append(0.0)\n",
    "    else:\n",
    "        position.append(displayed_pos[ind])\n",
    "        ind = ind+1\n",
    "\n",
    "#print(position)\n",
    "#position = [-0.25, 0.0, 0.25]\n",
    "data = {'fruits' : fruits,\n",
    "        '2015'   : [2, 1, 4, 3, 2, 4],\n",
    "        '2016'   : [5, 3, 3, 2, 4, 6],\n",
    "        '2017'   : [3, 2, 4, 4, 5, 3],\n",
    "       '2018'   : [2, 1, 3, 6, 7, 2],\n",
    "       '2019'   : [1, 1, 2, 2, 2, 1],\n",
    "       '2020'   : [5, 5, 4, 4, 5, 5]}\n",
    "\n",
    "# todo proper dynamic xrange, maybe use factor x_range instead always...\n",
    "source = ColumnDataSource(data=data)\n",
    "#x_axis = [ (fruit, year) for fruit in fruits for year in years ]\n",
    "\n",
    "p = figure(x_range=fruits,#FactorRange(*x_axis), #fruits,#\n",
    "           y_range=(0, 10), title=\"Fruit Counts by Year\",\n",
    "           height=600, toolbar_location=None, tools=\"\")\n",
    "for i, year in enumerate(years):\n",
    "    p.vbar(x=dodge('fruits', position[i], range=p.x_range), top=year, source=source,\n",
    "       width=width, color=years_color[i], legend_label=year, visible=years_visible[i])\n",
    "\n",
    "p.x_range.range_padding = 0.1\n",
    "p.xaxis.major_label_orientation = 1\n",
    "p.xgrid.grid_line_color = None\n",
    "p.legend.location = \"top_left\"\n",
    "p.legend.orientation = \"horizontal\"\n",
    "p.legend.click_policy=\"hide\"\n",
    "\n",
    "show(p)"
   ]
  },
  {
   "cell_type": "code",
   "execution_count": null,
   "id": "7265d22c",
   "metadata": {},
   "outputs": [],
   "source": []
  }
 ],
 "metadata": {
  "kernelspec": {
   "display_name": "Python 3 (ipykernel)",
   "language": "python",
   "name": "python3"
  },
  "language_info": {
   "codemirror_mode": {
    "name": "ipython",
    "version": 3
   },
   "file_extension": ".py",
   "mimetype": "text/x-python",
   "name": "python",
   "nbconvert_exporter": "python",
   "pygments_lexer": "ipython3",
   "version": "3.8.10"
  }
 },
 "nbformat": 4,
 "nbformat_minor": 5
}
